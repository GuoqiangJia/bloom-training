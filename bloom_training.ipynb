{
  "nbformat": 4,
  "nbformat_minor": 0,
  "metadata": {
    "colab": {
      "provenance": [],
      "authorship_tag": "ABX9TyNWZrVGgq8Kp8VkjFlOowKA",
      "include_colab_link": true
    },
    "kernelspec": {
      "name": "python3",
      "display_name": "Python 3"
    },
    "language_info": {
      "name": "python"
    }
  },
  "cells": [
    {
      "cell_type": "markdown",
      "metadata": {
        "id": "view-in-github",
        "colab_type": "text"
      },
      "source": [
        "<a href=\"https://colab.research.google.com/github/GuoqiangJia/bloom-training/blob/master/bloom_training.ipynb\" target=\"_parent\"><img src=\"https://colab.research.google.com/assets/colab-badge.svg\" alt=\"Open In Colab\"/></a>"
      ]
    },
    {
      "cell_type": "code",
      "execution_count": 1,
      "metadata": {
        "id": "YlXm0wsosoXk",
        "colab": {
          "base_uri": "https://localhost:8080/"
        },
        "outputId": "454cf360-f1ea-44c9-9918-9dcf9b7ffd33"
      },
      "outputs": [
        {
          "output_type": "stream",
          "name": "stdout",
          "text": [
            "Mounted at /content/drive\n"
          ]
        }
      ],
      "source": [
        "import os\n",
        "from google.colab import drive\n",
        "\n",
        "drive.mount('/content/drive')\n",
        "os.chdir('/content/drive/My Drive')"
      ]
    },
    {
      "cell_type": "code",
      "source": [
        "!git clone https://github.com/GuoqiangJia/bloom-training.git"
      ],
      "metadata": {
        "colab": {
          "base_uri": "https://localhost:8080/"
        },
        "id": "EsOs_Zf5kO7d",
        "outputId": "fc7a78b0-f2b4-445d-f8fe-5b6aa45163b4"
      },
      "execution_count": 4,
      "outputs": [
        {
          "output_type": "stream",
          "name": "stdout",
          "text": [
            "Cloning into 'bloom-training'...\n",
            "remote: Enumerating objects: 19, done.\u001b[K\n",
            "remote: Counting objects: 100% (19/19), done.\u001b[K\n",
            "remote: Compressing objects: 100% (18/18), done.\u001b[K\n",
            "remote: Total 19 (delta 1), reused 16 (delta 0), pack-reused 0\u001b[K\n",
            "Unpacking objects: 100% (19/19), 9.39 KiB | 38.00 KiB/s, done.\n"
          ]
        }
      ]
    },
    {
      "cell_type": "code",
      "source": [
        "!ls\n",
        "!cd bloom-training\n",
        "!ls"
      ],
      "metadata": {
        "colab": {
          "base_uri": "https://localhost:8080/"
        },
        "id": "NyXgWFjIkQfs",
        "outputId": "b90ec271-30b7-4c53-b5cc-571ddbb2ec70"
      },
      "execution_count": 8,
      "outputs": [
        {
          "output_type": "stream",
          "name": "stdout",
          "text": [
            " bloom-training\n",
            " bloomz\n",
            "'Colab Notebooks'\n",
            " dev.json\n",
            " dev.tsv\n",
            "'icoolworks — Converted from Classic Sites.gsite'\n",
            " NER_data\n",
            " req.doc\n",
            " sample_data\n",
            " signature.asc\n",
            " Takeout\n",
            " train.json\n",
            " train.tsv\n",
            " Watermark-Removal-Pytorch\n",
            "'Working hours (Dec.).gsheet'\n",
            "'Working hours (Oct. and Nov.).gsheet'\n",
            "'采气树内壁检测三维成像系统 - 时间估计和初步报价.gsheet'\n",
            " bloom-training\n",
            " bloomz\n",
            "'Colab Notebooks'\n",
            " dev.json\n",
            " dev.tsv\n",
            "'icoolworks — Converted from Classic Sites.gsite'\n",
            " NER_data\n",
            " req.doc\n",
            " sample_data\n",
            " signature.asc\n",
            " Takeout\n",
            " train.json\n",
            " train.tsv\n",
            " Watermark-Removal-Pytorch\n",
            "'Working hours (Dec.).gsheet'\n",
            "'Working hours (Oct. and Nov.).gsheet'\n",
            "'采气树内壁检测三维成像系统 - 时间估计和初步报价.gsheet'\n"
          ]
        }
      ]
    },
    {
      "cell_type": "code",
      "source": [],
      "metadata": {
        "id": "JV6AlevrkRlp"
      },
      "execution_count": null,
      "outputs": []
    },
    {
      "cell_type": "code",
      "source": [],
      "metadata": {
        "id": "mQ09cyNLkQUs"
      },
      "execution_count": null,
      "outputs": []
    }
  ]
}